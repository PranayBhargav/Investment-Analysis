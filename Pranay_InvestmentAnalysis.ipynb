{
 "cells": [
  {
   "cell_type": "code",
   "execution_count": 38,
   "metadata": {},
   "outputs": [],
   "source": [
    "#importing library and loading the data\n",
    "import numpy as np\n",
    "import pandas as pd\n",
    "\n",
    "#importing Chardet as the Encoding is different from the default one\n",
    "import chardet\n",
    "with open('companies.csv' ,'rb') as rawdata:\n",
    "    result = chardet.detect(rawdata.read(10000))\n",
    "#checking the charecter encoding might be\n",
    "#if i use utf-8, windows-1252 etc i am getting some UnicodeDecodeError to overcome it iso-8859-1 does the job \n",
    "#creating the dataframe\n",
    "companies = pd.read_csv(\"companies.csv\" , encoding = 'iso-8859-1')\n",
    "rounds2 = pd.read_csv(\"rounds2.csv\" , encoding = 'iso-8859-1')"
   ]
  },
  {
   "cell_type": "code",
   "execution_count": 39,
   "metadata": {},
   "outputs": [
    {
     "name": "stdout",
     "output_type": "stream",
     "text": [
      "66368\n",
      "66370\n"
     ]
    }
   ],
   "source": [
    "#checking for the unique company names in both the dataframes\n",
    "companies['permalink'] = companies['permalink'].str.lower()\n",
    "print(len(companies['permalink'].unique()))\n",
    "rounds2['company_permalink'] = rounds2['company_permalink'].str.lower()\n",
    "print(len(rounds2['company_permalink'].unique()))"
   ]
  },
  {
   "cell_type": "code",
   "execution_count": 40,
   "metadata": {
    "scrolled": true
   },
   "outputs": [
    {
     "data": {
      "text/html": [
       "<div>\n",
       "<style scoped>\n",
       "    .dataframe tbody tr th:only-of-type {\n",
       "        vertical-align: middle;\n",
       "    }\n",
       "\n",
       "    .dataframe tbody tr th {\n",
       "        vertical-align: top;\n",
       "    }\n",
       "\n",
       "    .dataframe thead th {\n",
       "        text-align: right;\n",
       "    }\n",
       "</style>\n",
       "<table border=\"1\" class=\"dataframe\">\n",
       "  <thead>\n",
       "    <tr style=\"text-align: right;\">\n",
       "      <th></th>\n",
       "      <th>company_permalink</th>\n",
       "      <th>funding_round_permalink</th>\n",
       "      <th>funding_round_type</th>\n",
       "      <th>funding_round_code</th>\n",
       "      <th>funded_at</th>\n",
       "      <th>raised_amount_usd</th>\n",
       "    </tr>\n",
       "  </thead>\n",
       "  <tbody>\n",
       "    <tr>\n",
       "      <th>0</th>\n",
       "      <td>/organization/-fame</td>\n",
       "      <td>/funding-round/9a01d05418af9f794eebff7ace91f638</td>\n",
       "      <td>venture</td>\n",
       "      <td>B</td>\n",
       "      <td>05-01-2015</td>\n",
       "      <td>10000000.0</td>\n",
       "    </tr>\n",
       "    <tr>\n",
       "      <th>1</th>\n",
       "      <td>/organization/-qounter</td>\n",
       "      <td>/funding-round/22dacff496eb7acb2b901dec1dfe5633</td>\n",
       "      <td>venture</td>\n",
       "      <td>A</td>\n",
       "      <td>14-10-2014</td>\n",
       "      <td>NaN</td>\n",
       "    </tr>\n",
       "    <tr>\n",
       "      <th>2</th>\n",
       "      <td>/organization/-qounter</td>\n",
       "      <td>/funding-round/b44fbb94153f6cdef13083530bb48030</td>\n",
       "      <td>seed</td>\n",
       "      <td>NaN</td>\n",
       "      <td>01-03-2014</td>\n",
       "      <td>700000.0</td>\n",
       "    </tr>\n",
       "    <tr>\n",
       "      <th>3</th>\n",
       "      <td>/organization/-the-one-of-them-inc-</td>\n",
       "      <td>/funding-round/650b8f704416801069bb178a1418776b</td>\n",
       "      <td>venture</td>\n",
       "      <td>B</td>\n",
       "      <td>30-01-2014</td>\n",
       "      <td>3406878.0</td>\n",
       "    </tr>\n",
       "    <tr>\n",
       "      <th>4</th>\n",
       "      <td>/organization/0-6-com</td>\n",
       "      <td>/funding-round/5727accaeaa57461bd22a9bdd945382d</td>\n",
       "      <td>venture</td>\n",
       "      <td>A</td>\n",
       "      <td>19-03-2008</td>\n",
       "      <td>2000000.0</td>\n",
       "    </tr>\n",
       "    <tr>\n",
       "      <th>...</th>\n",
       "      <td>...</td>\n",
       "      <td>...</td>\n",
       "      <td>...</td>\n",
       "      <td>...</td>\n",
       "      <td>...</td>\n",
       "      <td>...</td>\n",
       "    </tr>\n",
       "    <tr>\n",
       "      <th>114944</th>\n",
       "      <td>/organization/zzzzapp-com</td>\n",
       "      <td>/funding-round/8f6d25b8ee4199e586484d817bceda05</td>\n",
       "      <td>convertible_note</td>\n",
       "      <td>NaN</td>\n",
       "      <td>01-03-2014</td>\n",
       "      <td>41313.0</td>\n",
       "    </tr>\n",
       "    <tr>\n",
       "      <th>114945</th>\n",
       "      <td>/organization/zzzzapp-com</td>\n",
       "      <td>/funding-round/ff1aa06ed5da186c84f101549035d4ae</td>\n",
       "      <td>seed</td>\n",
       "      <td>NaN</td>\n",
       "      <td>01-05-2013</td>\n",
       "      <td>32842.0</td>\n",
       "    </tr>\n",
       "    <tr>\n",
       "      <th>114946</th>\n",
       "      <td>/organization/ãeron</td>\n",
       "      <td>/funding-round/59f4dce44723b794f21ded3daed6e4fe</td>\n",
       "      <td>venture</td>\n",
       "      <td>A</td>\n",
       "      <td>01-08-2014</td>\n",
       "      <td>NaN</td>\n",
       "    </tr>\n",
       "    <tr>\n",
       "      <th>114947</th>\n",
       "      <td>/organization/ãasys-2</td>\n",
       "      <td>/funding-round/35f09d0794651719b02bbfd859ba9ff5</td>\n",
       "      <td>seed</td>\n",
       "      <td>NaN</td>\n",
       "      <td>01-01-2015</td>\n",
       "      <td>18192.0</td>\n",
       "    </tr>\n",
       "    <tr>\n",
       "      <th>114948</th>\n",
       "      <td>/organization/ä°novatiff-reklam-ve-tanä±tä±m-h...</td>\n",
       "      <td>/funding-round/af942869878d2cd788ef5189b435ebc4</td>\n",
       "      <td>grant</td>\n",
       "      <td>NaN</td>\n",
       "      <td>01-10-2013</td>\n",
       "      <td>14851.0</td>\n",
       "    </tr>\n",
       "  </tbody>\n",
       "</table>\n",
       "<p>114942 rows × 6 columns</p>\n",
       "</div>"
      ],
      "text/plain": [
       "                                        company_permalink  \\\n",
       "0                                     /organization/-fame   \n",
       "1                                  /organization/-qounter   \n",
       "2                                  /organization/-qounter   \n",
       "3                     /organization/-the-one-of-them-inc-   \n",
       "4                                   /organization/0-6-com   \n",
       "...                                                   ...   \n",
       "114944                          /organization/zzzzapp-com   \n",
       "114945                          /organization/zzzzapp-com   \n",
       "114946                               /organization/ãeron   \n",
       "114947                             /organization/ãasys-2   \n",
       "114948  /organization/ä°novatiff-reklam-ve-tanä±tä±m-h...   \n",
       "\n",
       "                                funding_round_permalink funding_round_type  \\\n",
       "0       /funding-round/9a01d05418af9f794eebff7ace91f638            venture   \n",
       "1       /funding-round/22dacff496eb7acb2b901dec1dfe5633            venture   \n",
       "2       /funding-round/b44fbb94153f6cdef13083530bb48030               seed   \n",
       "3       /funding-round/650b8f704416801069bb178a1418776b            venture   \n",
       "4       /funding-round/5727accaeaa57461bd22a9bdd945382d            venture   \n",
       "...                                                 ...                ...   \n",
       "114944  /funding-round/8f6d25b8ee4199e586484d817bceda05   convertible_note   \n",
       "114945  /funding-round/ff1aa06ed5da186c84f101549035d4ae               seed   \n",
       "114946  /funding-round/59f4dce44723b794f21ded3daed6e4fe            venture   \n",
       "114947  /funding-round/35f09d0794651719b02bbfd859ba9ff5               seed   \n",
       "114948  /funding-round/af942869878d2cd788ef5189b435ebc4              grant   \n",
       "\n",
       "       funding_round_code   funded_at  raised_amount_usd  \n",
       "0                       B  05-01-2015         10000000.0  \n",
       "1                       A  14-10-2014                NaN  \n",
       "2                     NaN  01-03-2014           700000.0  \n",
       "3                       B  30-01-2014          3406878.0  \n",
       "4                       A  19-03-2008          2000000.0  \n",
       "...                   ...         ...                ...  \n",
       "114944                NaN  01-03-2014            41313.0  \n",
       "114945                NaN  01-05-2013            32842.0  \n",
       "114946                  A  01-08-2014                NaN  \n",
       "114947                NaN  01-01-2015            18192.0  \n",
       "114948                NaN  01-10-2013            14851.0  \n",
       "\n",
       "[114942 rows x 6 columns]"
      ]
     },
     "execution_count": 40,
     "metadata": {},
     "output_type": "execute_result"
    }
   ],
   "source": [
    "#checking if the companies present in round2 dataframe are not present in company dataframe \n",
    "rounds2.loc[rounds2['company_permalink'].isin(companies['permalink']) ,:]"
   ]
  },
  {
   "cell_type": "markdown",
   "metadata": {},
   "source": [
    "since the above result shows 114942 rows, hen there is no new company that is present in rounds2 which is not present in companies dataframe\n"
   ]
  },
  {
   "cell_type": "markdown",
   "metadata": {},
   "source": [
    "##### Merging companies and round2 Dataframe"
   ]
  },
  {
   "cell_type": "code",
   "execution_count": 41,
   "metadata": {},
   "outputs": [
    {
     "name": "stdout",
     "output_type": "stream",
     "text": [
      "<class 'pandas.core.frame.DataFrame'>\n",
      "Int64Index: 114942 entries, 0 to 114941\n",
      "Data columns (total 16 columns):\n",
      " #   Column                   Non-Null Count   Dtype  \n",
      "---  ------                   --------------   -----  \n",
      " 0   permalink                114942 non-null  object \n",
      " 1   name                     114941 non-null  object \n",
      " 2   homepage_url             108810 non-null  object \n",
      " 3   category_list            111535 non-null  object \n",
      " 4   status                   114942 non-null  object \n",
      " 5   country_code             106271 non-null  object \n",
      " 6   state_code               104003 non-null  object \n",
      " 7   region                   104782 non-null  object \n",
      " 8   city                     104785 non-null  object \n",
      " 9   founded_at               94422 non-null   object \n",
      " 10  company_permalink        114942 non-null  object \n",
      " 11  funding_round_permalink  114942 non-null  object \n",
      " 12  funding_round_type       114942 non-null  object \n",
      " 13  funding_round_code       31139 non-null   object \n",
      " 14  funded_at                114942 non-null  object \n",
      " 15  raised_amount_usd        94958 non-null   float64\n",
      "dtypes: float64(1), object(15)\n",
      "memory usage: 14.9+ MB\n"
     ]
    }
   ],
   "source": [
    "#merging both the  dataframes\n",
    "master_frame = pd.merge(companies,rounds2,how = \"inner\", left_on = \"permalink\", right_on= \"company_permalink\")\n",
    "master_frame.info()"
   ]
  },
  {
   "cell_type": "markdown",
   "metadata": {},
   "source": [
    "### Calculating the missing values "
   ]
  },
  {
   "cell_type": "code",
   "execution_count": 42,
   "metadata": {},
   "outputs": [
    {
     "data": {
      "text/plain": [
       "permalink                   0.00\n",
       "name                        0.00\n",
       "homepage_url                5.33\n",
       "category_list               2.96\n",
       "status                      0.00\n",
       "country_code                7.54\n",
       "state_code                  9.52\n",
       "region                      8.84\n",
       "city                        8.84\n",
       "founded_at                 17.85\n",
       "company_permalink           0.00\n",
       "funding_round_permalink     0.00\n",
       "funding_round_type          0.00\n",
       "funding_round_code         72.91\n",
       "funded_at                   0.00\n",
       "raised_amount_usd          17.39\n",
       "dtype: float64"
      ]
     },
     "execution_count": 42,
     "metadata": {},
     "output_type": "execute_result"
    }
   ],
   "source": [
    "#calculating the Total percentage of the Missing values in each column\n",
    "round(100*(master_frame.isnull().sum()/len(master_frame.index)), 2)"
   ]
  },
  {
   "cell_type": "markdown",
   "metadata": {},
   "source": [
    "In the above results we could see that the total missing percentage for each and every column. now we carefully look at each and every column and see that if it requires any imputing of values.\n",
    "\n",
    "firstly we can identify missing columns at the homepage_url, category_list, country_code, state_code, region, city, founded_at, funding_round_code and raised_amount_usd          \n",
    "\n",
    "now columns that do not require any imputing of values as these columns are not revelant for our analysis and they are homepage_url, state_code, region, city, founded_at and funding_round_code\n",
    "\n",
    "now we take the column country_code as this is having  missing values of 7.54 percentage in the entire DataFrame. This can be  imputed with the mode of the Column \"country_code\""
   ]
  },
  {
   "cell_type": "markdown",
   "metadata": {},
   "source": [
    "I choose to impute the Column country_code with the mode\n"
   ]
  },
  {
   "cell_type": "code",
   "execution_count": 43,
   "metadata": {},
   "outputs": [],
   "source": [
    "#calculating the mod of the column Country_code\n",
    "master_frame.country_code.mode()\n",
    "# imputing the missing values in the column Country_code with USA\n",
    "master_frame['country_code'] = master_frame['country_code'].fillna('USA')"
   ]
  },
  {
   "cell_type": "markdown",
   "metadata": {},
   "source": [
    "for the column category_list I Choose to droup the missing values rows as they are only 2.96 in percentage"
   ]
  },
  {
   "cell_type": "code",
   "execution_count": 44,
   "metadata": {},
   "outputs": [],
   "source": [
    "#droping the rows with NaN as the value in the column  category_list\n",
    "master_frame['category_list']=master_frame['category_list'].fillna(\"\")"
   ]
  },
  {
   "cell_type": "markdown",
   "metadata": {},
   "source": [
    "As the Fund column \"raised_amount_usd\" is having a missing values in this, if i impute this column with any values, then my statistical parameters may be changed also imputing this is not a good idea as this is my target variabe for fund type analysis, i decided to ignore the rows in which the cell against the column raised_amount_usd is empty"
   ]
  },
  {
   "cell_type": "code",
   "execution_count": 45,
   "metadata": {},
   "outputs": [],
   "source": [
    "master_frame = master_frame[~np.isnan(master_frame['raised_amount_usd'])]"
   ]
  },
  {
   "cell_type": "markdown",
   "metadata": {},
   "source": [
    "the data cleaning for the intrested columns is done now again checking for the  percentage of missing values after data cleaning"
   ]
  },
  {
   "cell_type": "code",
   "execution_count": 46,
   "metadata": {},
   "outputs": [
    {
     "data": {
      "text/plain": [
       "permalink                   0.00\n",
       "name                        0.00\n",
       "homepage_url                4.56\n",
       "category_list               0.00\n",
       "status                      0.00\n",
       "country_code                0.00\n",
       "state_code                  8.01\n",
       "region                      7.42\n",
       "city                        7.42\n",
       "founded_at                 16.81\n",
       "company_permalink           0.00\n",
       "funding_round_permalink     0.00\n",
       "funding_round_type          0.00\n",
       "funding_round_code         70.34\n",
       "funded_at                   0.00\n",
       "raised_amount_usd           0.00\n",
       "dtype: float64"
      ]
     },
     "execution_count": 46,
     "metadata": {},
     "output_type": "execute_result"
    }
   ],
   "source": [
    "#calculating the Total percentage of the Missing values in each column after data cleaning\n",
    "round(100*(master_frame.isnull().sum()/len(master_frame.index)), 2)"
   ]
  },
  {
   "cell_type": "markdown",
   "metadata": {},
   "source": [
    "### Funding Type Analysis"
   ]
  },
  {
   "cell_type": "code",
   "execution_count": 47,
   "metadata": {},
   "outputs": [],
   "source": [
    "#grouping the Data according to the Fund Type\n",
    "master_group = master_frame.groupby('funding_round_type') "
   ]
  },
  {
   "cell_type": "markdown",
   "metadata": {},
   "source": [
    "#### calculating various statistical parameters for each group of Data\n"
   ]
  },
  {
   "cell_type": "code",
   "execution_count": 48,
   "metadata": {},
   "outputs": [
    {
     "name": "stdout",
     "output_type": "stream",
     "text": [
      "funding_round_type\n",
      "angel                      400000.0\n",
      "convertible_note           272000.0\n",
      "debt_financing            1100000.0\n",
      "equity_crowdfunding        100000.0\n",
      "grant                      201684.0\n",
      "non_equity_assistance       60000.0\n",
      "post_ipo_debt            19950000.0\n",
      "post_ipo_equity          12262852.0\n",
      "private_equity           20000000.0\n",
      "product_crowdfunding       183915.0\n",
      "secondary_market         32600000.0\n",
      "seed                       275000.0\n",
      "undisclosed               1018680.0\n",
      "venture                   5000000.0\n",
      "Name: raised_amount_usd, dtype: float64\n"
     ]
    }
   ],
   "source": [
    "\n",
    "#calculating the median of the investment based on the groups of funding_round_type \n",
    "print(round(master_group['raised_amount_usd'].median()))"
   ]
  },
  {
   "cell_type": "code",
   "execution_count": 49,
   "metadata": {},
   "outputs": [
    {
     "name": "stdout",
     "output_type": "stream",
     "text": [
      "funding_round_type\n",
      "angel                       958694.0\n",
      "convertible_note           1453439.0\n",
      "debt_financing            17043526.0\n",
      "equity_crowdfunding         538368.0\n",
      "grant                      4300576.0\n",
      "non_equity_assistance       411203.0\n",
      "post_ipo_debt            168704572.0\n",
      "post_ipo_equity           82182494.0\n",
      "private_equity            73308593.0\n",
      "product_crowdfunding       1363131.0\n",
      "secondary_market          79649630.0\n",
      "seed                        719780.0\n",
      "undisclosed               19242370.0\n",
      "venture                   11748949.0\n",
      "Name: raised_amount_usd, dtype: float64\n"
     ]
    }
   ],
   "source": [
    "#calculating the Mean of the investment based on the groups of funding_round_type \n",
    "print(round(master_group['raised_amount_usd'].mean()))"
   ]
  },
  {
   "cell_type": "code",
   "execution_count": 50,
   "metadata": {},
   "outputs": [
    {
     "name": "stdout",
     "output_type": "stream",
     "text": [
      "funding_round_type\n",
      "angel                    4.659255e+09\n",
      "convertible_note         2.103126e+09\n",
      "debt_financing           1.138848e+11\n",
      "equity_crowdfunding      6.611162e+08\n",
      "grant                    9.134424e+09\n",
      "non_equity_assistance    3.001782e+07\n",
      "post_ipo_debt            2.564309e+10\n",
      "post_ipo_equity          5.161061e+10\n",
      "private_equity           1.419254e+11\n",
      "product_crowdfunding     5.261686e+08\n",
      "secondary_market         2.389489e+09\n",
      "seed                     1.698824e+10\n",
      "undisclosed              3.044143e+10\n",
      "venture                  5.901262e+11\n",
      "Name: raised_amount_usd, dtype: float64\n"
     ]
    }
   ],
   "source": [
    "#calculating the total sum  of the investment based on the groups of funding_round_type \n",
    "print(round(master_group['raised_amount_usd'].sum()))"
   ]
  },
  {
   "cell_type": "markdown",
   "metadata": {},
   "source": [
    "most representative value of the investment amount is the median of the above data. as the difference in mean and median is more. there could be some outliers as the mean is greater that 15 million USD but the median for venture is less than 15 million USD"
   ]
  },
  {
   "cell_type": "markdown",
   "metadata": {},
   "source": [
    "Based on the most representative investment amount calculated for venture, angel, seed, and private equity. The fund category that suites the for SPARX investment is venture as the mean for this type is in between 5 to 15 million USD"
   ]
  },
  {
   "cell_type": "markdown",
   "metadata": {},
   "source": [
    "now as the investment type is decided upon, we filter the dataframe and consider only the rows which have the funding_round_type as venture "
   ]
  },
  {
   "cell_type": "code",
   "execution_count": 51,
   "metadata": {},
   "outputs": [],
   "source": [
    "#copying the dataframe for any further reference. mostly yhis can be used in the checkpoin6 for Graphs\n",
    "master_frame_all_funding_round_type = master_frame\n",
    "#considering the investment type(venture) only\n",
    "master_frame = master_frame[(master_frame['funding_round_type'] == 'venture')]"
   ]
  },
  {
   "cell_type": "markdown",
   "metadata": {},
   "source": [
    "### Country Analysis\n"
   ]
  },
  {
   "cell_type": "code",
   "execution_count": 52,
   "metadata": {},
   "outputs": [
    {
     "name": "stdout",
     "output_type": "stream",
     "text": [
      "country_code\n",
      "USA    4.480170e+11\n",
      "CHN    3.983542e+10\n",
      "GBR    2.024563e+10\n",
      "IND    1.439186e+10\n",
      "CAN    9.583332e+09\n",
      "FRA    7.259537e+09\n",
      "ISR    6.907515e+09\n",
      "DEU    6.346960e+09\n",
      "JPN    3.363677e+09\n",
      "Name: raised_amount_usd, dtype: float64\n"
     ]
    }
   ],
   "source": [
    "#grouping the dataframe by country code\n",
    "master_group = master_frame.groupby('country_code') \n",
    "#getting the country names which has highest investment amount in all the sectors for choosed investment type (venture)\n",
    "top_nine = master_group['raised_amount_usd'].sum().sort_values(ascending = False)[0:9]\n",
    "print(top_nine)\n"
   ]
  },
  {
   "cell_type": "code",
   "execution_count": 53,
   "metadata": {},
   "outputs": [],
   "source": [
    "#extracting the list of top nine countries\n",
    "top_nine_list = list(top_nine.index)\n",
    "top_nine_list\n",
    "#creating a new data frame \"top9\" with the top nine countires only\n",
    "top9= master_frame[(master_frame.country_code.isin(top_nine_list))]"
   ]
  },
  {
   "cell_type": "code",
   "execution_count": 54,
   "metadata": {},
   "outputs": [
    {
     "data": {
      "text/plain": [
       "country_code\n",
       "USA    4.480170e+11\n",
       "CHN    3.983542e+10\n",
       "GBR    2.024563e+10\n",
       "IND    1.439186e+10\n",
       "CAN    9.583332e+09\n",
       "FRA    7.259537e+09\n",
       "ISR    6.907515e+09\n",
       "DEU    6.346960e+09\n",
       "JPN    3.363677e+09\n",
       "Name: raised_amount_usd, dtype: float64"
      ]
     },
     "execution_count": 54,
     "metadata": {},
     "output_type": "execute_result"
    }
   ],
   "source": [
    "#grouping the top9 Dataframe to identify the top three english speeking counties based on there investement amount\n",
    "top9_group = top9.groupby('country_code') \n",
    "top9_group['raised_amount_usd'].sum().sort_values(ascending = False)"
   ]
  },
  {
   "cell_type": "markdown",
   "metadata": {},
   "source": [
    "depending on the Investment amount the top three English speaking countries are USA,GBR and IND"
   ]
  },
  {
   "cell_type": "markdown",
   "metadata": {},
   "source": [
    "now that we know the top three countries we focus on only these countires so creaating a Dataframe with these countires only. then we will focus on the investment sector"
   ]
  },
  {
   "cell_type": "code",
   "execution_count": 55,
   "metadata": {},
   "outputs": [
    {
     "data": {
      "text/html": [
       "<div>\n",
       "<style scoped>\n",
       "    .dataframe tbody tr th:only-of-type {\n",
       "        vertical-align: middle;\n",
       "    }\n",
       "\n",
       "    .dataframe tbody tr th {\n",
       "        vertical-align: top;\n",
       "    }\n",
       "\n",
       "    .dataframe thead th {\n",
       "        text-align: right;\n",
       "    }\n",
       "</style>\n",
       "<table border=\"1\" class=\"dataframe\">\n",
       "  <thead>\n",
       "    <tr style=\"text-align: right;\">\n",
       "      <th></th>\n",
       "      <th>permalink</th>\n",
       "      <th>name</th>\n",
       "      <th>homepage_url</th>\n",
       "      <th>category_list</th>\n",
       "      <th>status</th>\n",
       "      <th>country_code</th>\n",
       "      <th>state_code</th>\n",
       "      <th>region</th>\n",
       "      <th>city</th>\n",
       "      <th>founded_at</th>\n",
       "      <th>company_permalink</th>\n",
       "      <th>funding_round_permalink</th>\n",
       "      <th>funding_round_type</th>\n",
       "      <th>funding_round_code</th>\n",
       "      <th>funded_at</th>\n",
       "      <th>raised_amount_usd</th>\n",
       "    </tr>\n",
       "  </thead>\n",
       "  <tbody>\n",
       "    <tr>\n",
       "      <th>0</th>\n",
       "      <td>/organization/-fame</td>\n",
       "      <td>#fame</td>\n",
       "      <td>http://livfame.com</td>\n",
       "      <td>Media</td>\n",
       "      <td>operating</td>\n",
       "      <td>IND</td>\n",
       "      <td>16</td>\n",
       "      <td>Mumbai</td>\n",
       "      <td>Mumbai</td>\n",
       "      <td>NaN</td>\n",
       "      <td>/organization/-fame</td>\n",
       "      <td>/funding-round/9a01d05418af9f794eebff7ace91f638</td>\n",
       "      <td>venture</td>\n",
       "      <td>B</td>\n",
       "      <td>05-01-2015</td>\n",
       "      <td>10000000.0</td>\n",
       "    </tr>\n",
       "    <tr>\n",
       "      <th>3</th>\n",
       "      <td>/organization/-the-one-of-them-inc-</td>\n",
       "      <td>(THE) ONE of THEM,Inc.</td>\n",
       "      <td>http://oneofthem.jp</td>\n",
       "      <td>Apps|Games|Mobile</td>\n",
       "      <td>operating</td>\n",
       "      <td>USA</td>\n",
       "      <td>NaN</td>\n",
       "      <td>NaN</td>\n",
       "      <td>NaN</td>\n",
       "      <td>NaN</td>\n",
       "      <td>/organization/-the-one-of-them-inc-</td>\n",
       "      <td>/funding-round/650b8f704416801069bb178a1418776b</td>\n",
       "      <td>venture</td>\n",
       "      <td>B</td>\n",
       "      <td>30-01-2014</td>\n",
       "      <td>3406878.0</td>\n",
       "    </tr>\n",
       "    <tr>\n",
       "      <th>10</th>\n",
       "      <td>/organization/0xdata</td>\n",
       "      <td>H2O.ai</td>\n",
       "      <td>http://h2o.ai/</td>\n",
       "      <td>Analytics</td>\n",
       "      <td>operating</td>\n",
       "      <td>USA</td>\n",
       "      <td>CA</td>\n",
       "      <td>SF Bay Area</td>\n",
       "      <td>Mountain View</td>\n",
       "      <td>01-01-2011</td>\n",
       "      <td>/organization/0xdata</td>\n",
       "      <td>/funding-round/3bb2ee4a2d89251a10aaa735b1180e44</td>\n",
       "      <td>venture</td>\n",
       "      <td>B</td>\n",
       "      <td>09-11-2015</td>\n",
       "      <td>20000000.0</td>\n",
       "    </tr>\n",
       "    <tr>\n",
       "      <th>11</th>\n",
       "      <td>/organization/0xdata</td>\n",
       "      <td>H2O.ai</td>\n",
       "      <td>http://h2o.ai/</td>\n",
       "      <td>Analytics</td>\n",
       "      <td>operating</td>\n",
       "      <td>USA</td>\n",
       "      <td>CA</td>\n",
       "      <td>SF Bay Area</td>\n",
       "      <td>Mountain View</td>\n",
       "      <td>01-01-2011</td>\n",
       "      <td>/organization/0xdata</td>\n",
       "      <td>/funding-round/ae2a174c06517c2394aed45006322a7e</td>\n",
       "      <td>venture</td>\n",
       "      <td>NaN</td>\n",
       "      <td>03-01-2013</td>\n",
       "      <td>1700000.0</td>\n",
       "    </tr>\n",
       "    <tr>\n",
       "      <th>12</th>\n",
       "      <td>/organization/0xdata</td>\n",
       "      <td>H2O.ai</td>\n",
       "      <td>http://h2o.ai/</td>\n",
       "      <td>Analytics</td>\n",
       "      <td>operating</td>\n",
       "      <td>USA</td>\n",
       "      <td>CA</td>\n",
       "      <td>SF Bay Area</td>\n",
       "      <td>Mountain View</td>\n",
       "      <td>01-01-2011</td>\n",
       "      <td>/organization/0xdata</td>\n",
       "      <td>/funding-round/e1cfcbe1bdf4c70277c5f29a3482f24e</td>\n",
       "      <td>venture</td>\n",
       "      <td>A</td>\n",
       "      <td>19-07-2014</td>\n",
       "      <td>8900000.0</td>\n",
       "    </tr>\n",
       "  </tbody>\n",
       "</table>\n",
       "</div>"
      ],
      "text/plain": [
       "                              permalink                    name  \\\n",
       "0                   /organization/-fame                   #fame   \n",
       "3   /organization/-the-one-of-them-inc-  (THE) ONE of THEM,Inc.   \n",
       "10                 /organization/0xdata                  H2O.ai   \n",
       "11                 /organization/0xdata                  H2O.ai   \n",
       "12                 /organization/0xdata                  H2O.ai   \n",
       "\n",
       "           homepage_url      category_list     status country_code state_code  \\\n",
       "0    http://livfame.com              Media  operating          IND         16   \n",
       "3   http://oneofthem.jp  Apps|Games|Mobile  operating          USA        NaN   \n",
       "10       http://h2o.ai/          Analytics  operating          USA         CA   \n",
       "11       http://h2o.ai/          Analytics  operating          USA         CA   \n",
       "12       http://h2o.ai/          Analytics  operating          USA         CA   \n",
       "\n",
       "         region           city  founded_at  \\\n",
       "0        Mumbai         Mumbai         NaN   \n",
       "3           NaN            NaN         NaN   \n",
       "10  SF Bay Area  Mountain View  01-01-2011   \n",
       "11  SF Bay Area  Mountain View  01-01-2011   \n",
       "12  SF Bay Area  Mountain View  01-01-2011   \n",
       "\n",
       "                      company_permalink  \\\n",
       "0                   /organization/-fame   \n",
       "3   /organization/-the-one-of-them-inc-   \n",
       "10                 /organization/0xdata   \n",
       "11                 /organization/0xdata   \n",
       "12                 /organization/0xdata   \n",
       "\n",
       "                            funding_round_permalink funding_round_type  \\\n",
       "0   /funding-round/9a01d05418af9f794eebff7ace91f638            venture   \n",
       "3   /funding-round/650b8f704416801069bb178a1418776b            venture   \n",
       "10  /funding-round/3bb2ee4a2d89251a10aaa735b1180e44            venture   \n",
       "11  /funding-round/ae2a174c06517c2394aed45006322a7e            venture   \n",
       "12  /funding-round/e1cfcbe1bdf4c70277c5f29a3482f24e            venture   \n",
       "\n",
       "   funding_round_code   funded_at  raised_amount_usd  \n",
       "0                   B  05-01-2015         10000000.0  \n",
       "3                   B  30-01-2014          3406878.0  \n",
       "10                  B  09-11-2015         20000000.0  \n",
       "11                NaN  03-01-2013          1700000.0  \n",
       "12                  A  19-07-2014          8900000.0  "
      ]
     },
     "execution_count": 55,
     "metadata": {},
     "output_type": "execute_result"
    }
   ],
   "source": [
    "#creating a list with top three country names\n",
    "top_three_list = ['USA', 'GBR', 'IND']\n",
    "#creating a Dataframe with top three countires only\n",
    "top3 = top9[(top9.country_code.isin(top_three_list))]\n",
    "top3.head()"
   ]
  },
  {
   "cell_type": "markdown",
   "metadata": {},
   "source": [
    "### Sector Analysis 1"
   ]
  },
  {
   "cell_type": "markdown",
   "metadata": {},
   "source": [
    "##### **Cleaning the column category_list**\n",
    "\n",
    "now we take the column category_list as we can see in this column we have multiple category for a investment so we wish to consider the first category as its main category assuming that the first category is main category"
   ]
  },
  {
   "cell_type": "code",
   "execution_count": 56,
   "metadata": {},
   "outputs": [
    {
     "name": "stderr",
     "output_type": "stream",
     "text": [
      "C:\\Users\\pranay\\anaconda3\\lib\\site-packages\\ipykernel_launcher.py:1: SettingWithCopyWarning: \n",
      "A value is trying to be set on a copy of a slice from a DataFrame.\n",
      "Try using .loc[row_indexer,col_indexer] = value instead\n",
      "\n",
      "See the caveats in the documentation: https://pandas.pydata.org/pandas-docs/stable/user_guide/indexing.html#returning-a-view-versus-a-copy\n",
      "  \"\"\"Entry point for launching an IPython kernel.\n"
     ]
    },
    {
     "data": {
      "text/html": [
       "<div>\n",
       "<style scoped>\n",
       "    .dataframe tbody tr th:only-of-type {\n",
       "        vertical-align: middle;\n",
       "    }\n",
       "\n",
       "    .dataframe tbody tr th {\n",
       "        vertical-align: top;\n",
       "    }\n",
       "\n",
       "    .dataframe thead th {\n",
       "        text-align: right;\n",
       "    }\n",
       "</style>\n",
       "<table border=\"1\" class=\"dataframe\">\n",
       "  <thead>\n",
       "    <tr style=\"text-align: right;\">\n",
       "      <th></th>\n",
       "      <th>permalink</th>\n",
       "      <th>name</th>\n",
       "      <th>homepage_url</th>\n",
       "      <th>category_list</th>\n",
       "      <th>status</th>\n",
       "      <th>country_code</th>\n",
       "      <th>state_code</th>\n",
       "      <th>region</th>\n",
       "      <th>city</th>\n",
       "      <th>founded_at</th>\n",
       "      <th>company_permalink</th>\n",
       "      <th>funding_round_permalink</th>\n",
       "      <th>funding_round_type</th>\n",
       "      <th>funding_round_code</th>\n",
       "      <th>funded_at</th>\n",
       "      <th>raised_amount_usd</th>\n",
       "      <th>primary sector</th>\n",
       "    </tr>\n",
       "  </thead>\n",
       "  <tbody>\n",
       "    <tr>\n",
       "      <th>0</th>\n",
       "      <td>/organization/-fame</td>\n",
       "      <td>#fame</td>\n",
       "      <td>http://livfame.com</td>\n",
       "      <td>Media</td>\n",
       "      <td>operating</td>\n",
       "      <td>IND</td>\n",
       "      <td>16</td>\n",
       "      <td>Mumbai</td>\n",
       "      <td>Mumbai</td>\n",
       "      <td>NaN</td>\n",
       "      <td>/organization/-fame</td>\n",
       "      <td>/funding-round/9a01d05418af9f794eebff7ace91f638</td>\n",
       "      <td>venture</td>\n",
       "      <td>B</td>\n",
       "      <td>05-01-2015</td>\n",
       "      <td>10000000.0</td>\n",
       "      <td>Media</td>\n",
       "    </tr>\n",
       "    <tr>\n",
       "      <th>3</th>\n",
       "      <td>/organization/-the-one-of-them-inc-</td>\n",
       "      <td>(THE) ONE of THEM,Inc.</td>\n",
       "      <td>http://oneofthem.jp</td>\n",
       "      <td>Apps|Games|Mobile</td>\n",
       "      <td>operating</td>\n",
       "      <td>USA</td>\n",
       "      <td>NaN</td>\n",
       "      <td>NaN</td>\n",
       "      <td>NaN</td>\n",
       "      <td>NaN</td>\n",
       "      <td>/organization/-the-one-of-them-inc-</td>\n",
       "      <td>/funding-round/650b8f704416801069bb178a1418776b</td>\n",
       "      <td>venture</td>\n",
       "      <td>B</td>\n",
       "      <td>30-01-2014</td>\n",
       "      <td>3406878.0</td>\n",
       "      <td>Apps</td>\n",
       "    </tr>\n",
       "    <tr>\n",
       "      <th>10</th>\n",
       "      <td>/organization/0xdata</td>\n",
       "      <td>H2O.ai</td>\n",
       "      <td>http://h2o.ai/</td>\n",
       "      <td>Analytics</td>\n",
       "      <td>operating</td>\n",
       "      <td>USA</td>\n",
       "      <td>CA</td>\n",
       "      <td>SF Bay Area</td>\n",
       "      <td>Mountain View</td>\n",
       "      <td>01-01-2011</td>\n",
       "      <td>/organization/0xdata</td>\n",
       "      <td>/funding-round/3bb2ee4a2d89251a10aaa735b1180e44</td>\n",
       "      <td>venture</td>\n",
       "      <td>B</td>\n",
       "      <td>09-11-2015</td>\n",
       "      <td>20000000.0</td>\n",
       "      <td>Analytics</td>\n",
       "    </tr>\n",
       "    <tr>\n",
       "      <th>11</th>\n",
       "      <td>/organization/0xdata</td>\n",
       "      <td>H2O.ai</td>\n",
       "      <td>http://h2o.ai/</td>\n",
       "      <td>Analytics</td>\n",
       "      <td>operating</td>\n",
       "      <td>USA</td>\n",
       "      <td>CA</td>\n",
       "      <td>SF Bay Area</td>\n",
       "      <td>Mountain View</td>\n",
       "      <td>01-01-2011</td>\n",
       "      <td>/organization/0xdata</td>\n",
       "      <td>/funding-round/ae2a174c06517c2394aed45006322a7e</td>\n",
       "      <td>venture</td>\n",
       "      <td>NaN</td>\n",
       "      <td>03-01-2013</td>\n",
       "      <td>1700000.0</td>\n",
       "      <td>Analytics</td>\n",
       "    </tr>\n",
       "    <tr>\n",
       "      <th>12</th>\n",
       "      <td>/organization/0xdata</td>\n",
       "      <td>H2O.ai</td>\n",
       "      <td>http://h2o.ai/</td>\n",
       "      <td>Analytics</td>\n",
       "      <td>operating</td>\n",
       "      <td>USA</td>\n",
       "      <td>CA</td>\n",
       "      <td>SF Bay Area</td>\n",
       "      <td>Mountain View</td>\n",
       "      <td>01-01-2011</td>\n",
       "      <td>/organization/0xdata</td>\n",
       "      <td>/funding-round/e1cfcbe1bdf4c70277c5f29a3482f24e</td>\n",
       "      <td>venture</td>\n",
       "      <td>A</td>\n",
       "      <td>19-07-2014</td>\n",
       "      <td>8900000.0</td>\n",
       "      <td>Analytics</td>\n",
       "    </tr>\n",
       "  </tbody>\n",
       "</table>\n",
       "</div>"
      ],
      "text/plain": [
       "                              permalink                    name  \\\n",
       "0                   /organization/-fame                   #fame   \n",
       "3   /organization/-the-one-of-them-inc-  (THE) ONE of THEM,Inc.   \n",
       "10                 /organization/0xdata                  H2O.ai   \n",
       "11                 /organization/0xdata                  H2O.ai   \n",
       "12                 /organization/0xdata                  H2O.ai   \n",
       "\n",
       "           homepage_url      category_list     status country_code state_code  \\\n",
       "0    http://livfame.com              Media  operating          IND         16   \n",
       "3   http://oneofthem.jp  Apps|Games|Mobile  operating          USA        NaN   \n",
       "10       http://h2o.ai/          Analytics  operating          USA         CA   \n",
       "11       http://h2o.ai/          Analytics  operating          USA         CA   \n",
       "12       http://h2o.ai/          Analytics  operating          USA         CA   \n",
       "\n",
       "         region           city  founded_at  \\\n",
       "0        Mumbai         Mumbai         NaN   \n",
       "3           NaN            NaN         NaN   \n",
       "10  SF Bay Area  Mountain View  01-01-2011   \n",
       "11  SF Bay Area  Mountain View  01-01-2011   \n",
       "12  SF Bay Area  Mountain View  01-01-2011   \n",
       "\n",
       "                      company_permalink  \\\n",
       "0                   /organization/-fame   \n",
       "3   /organization/-the-one-of-them-inc-   \n",
       "10                 /organization/0xdata   \n",
       "11                 /organization/0xdata   \n",
       "12                 /organization/0xdata   \n",
       "\n",
       "                            funding_round_permalink funding_round_type  \\\n",
       "0   /funding-round/9a01d05418af9f794eebff7ace91f638            venture   \n",
       "3   /funding-round/650b8f704416801069bb178a1418776b            venture   \n",
       "10  /funding-round/3bb2ee4a2d89251a10aaa735b1180e44            venture   \n",
       "11  /funding-round/ae2a174c06517c2394aed45006322a7e            venture   \n",
       "12  /funding-round/e1cfcbe1bdf4c70277c5f29a3482f24e            venture   \n",
       "\n",
       "   funding_round_code   funded_at  raised_amount_usd primary sector  \n",
       "0                   B  05-01-2015         10000000.0          Media  \n",
       "3                   B  30-01-2014          3406878.0           Apps  \n",
       "10                  B  09-11-2015         20000000.0      Analytics  \n",
       "11                NaN  03-01-2013          1700000.0      Analytics  \n",
       "12                  A  19-07-2014          8900000.0      Analytics  "
      ]
     },
     "execution_count": 56,
     "metadata": {},
     "output_type": "execute_result"
    }
   ],
   "source": [
    "top3['primary sector']=top3['category_list'].apply(lambda x : x.split('|')[0] if '|' in x else x)\n",
    "top3.head()"
   ]
  },
  {
   "cell_type": "code",
   "execution_count": 57,
   "metadata": {},
   "outputs": [],
   "source": [
    "#loading the mapping file\n",
    "mapping = pd.read_csv(\"mapping.csv\")\n",
    "# store the value and id variables in two separate arrays\n",
    "# store the value variables in one list\n",
    "value_vars = list(mapping.columns[1:])\n",
    "# store the id variables in one list\n",
    "id_vars = list(np.setdiff1d(mapping.columns, value_vars))\n"
   ]
  },
  {
   "cell_type": "code",
   "execution_count": 58,
   "metadata": {},
   "outputs": [],
   "source": [
    "#melting the mapping dataframe\n",
    "mapping_long_df = pd.melt(mapping, id_vars = id_vars, value_vars = value_vars)\n",
    "# remove rows having value=0\n",
    "mapping_long_df = mapping_long_df[(mapping_long_df.value == 1)]\n",
    "# droping the column value\n",
    "mapping_long_df = mapping_long_df.drop('value', axis = 1)\n",
    "#renaming the coluumn variable to main_sector\n",
    "mapping_long_df = mapping_long_df.rename(columns = {'variable' : \"main_sector\"})"
   ]
  },
  {
   "cell_type": "code",
   "execution_count": 59,
   "metadata": {},
   "outputs": [],
   "source": [
    "#Renaming the category_list column to primary sector so that the merging becomes easy\n",
    "mapping_long_df = mapping_long_df.rename(columns = {'category_list' : \"primary sector\"})"
   ]
  },
  {
   "cell_type": "code",
   "execution_count": 60,
   "metadata": {},
   "outputs": [
    {
     "data": {
      "text/html": [
       "<div>\n",
       "<style scoped>\n",
       "    .dataframe tbody tr th:only-of-type {\n",
       "        vertical-align: middle;\n",
       "    }\n",
       "\n",
       "    .dataframe tbody tr th {\n",
       "        vertical-align: top;\n",
       "    }\n",
       "\n",
       "    .dataframe thead th {\n",
       "        text-align: right;\n",
       "    }\n",
       "</style>\n",
       "<table border=\"1\" class=\"dataframe\">\n",
       "  <thead>\n",
       "    <tr style=\"text-align: right;\">\n",
       "      <th></th>\n",
       "      <th>permalink</th>\n",
       "      <th>name</th>\n",
       "      <th>homepage_url</th>\n",
       "      <th>category_list</th>\n",
       "      <th>status</th>\n",
       "      <th>country_code</th>\n",
       "      <th>state_code</th>\n",
       "      <th>region</th>\n",
       "      <th>city</th>\n",
       "      <th>founded_at</th>\n",
       "      <th>company_permalink</th>\n",
       "      <th>funding_round_permalink</th>\n",
       "      <th>funding_round_type</th>\n",
       "      <th>funding_round_code</th>\n",
       "      <th>funded_at</th>\n",
       "      <th>raised_amount_usd</th>\n",
       "      <th>primary sector</th>\n",
       "      <th>main_sector</th>\n",
       "    </tr>\n",
       "  </thead>\n",
       "  <tbody>\n",
       "    <tr>\n",
       "      <th>0</th>\n",
       "      <td>/organization/-fame</td>\n",
       "      <td>#fame</td>\n",
       "      <td>http://livfame.com</td>\n",
       "      <td>Media</td>\n",
       "      <td>operating</td>\n",
       "      <td>IND</td>\n",
       "      <td>16</td>\n",
       "      <td>Mumbai</td>\n",
       "      <td>Mumbai</td>\n",
       "      <td>NaN</td>\n",
       "      <td>/organization/-fame</td>\n",
       "      <td>/funding-round/9a01d05418af9f794eebff7ace91f638</td>\n",
       "      <td>venture</td>\n",
       "      <td>B</td>\n",
       "      <td>05-01-2015</td>\n",
       "      <td>10000000.0</td>\n",
       "      <td>Media</td>\n",
       "      <td>Entertainment</td>\n",
       "    </tr>\n",
       "    <tr>\n",
       "      <th>1</th>\n",
       "      <td>/organization/90min</td>\n",
       "      <td>90min</td>\n",
       "      <td>http://www.90min.com</td>\n",
       "      <td>Media|News|Publishing|Soccer|Sports</td>\n",
       "      <td>operating</td>\n",
       "      <td>GBR</td>\n",
       "      <td>H9</td>\n",
       "      <td>London</td>\n",
       "      <td>London</td>\n",
       "      <td>01-01-2011</td>\n",
       "      <td>/organization/90min</td>\n",
       "      <td>/funding-round/21a2cbf6f2fb2a1c2a61e04bf930dfe6</td>\n",
       "      <td>venture</td>\n",
       "      <td>NaN</td>\n",
       "      <td>06-10-2015</td>\n",
       "      <td>15000000.0</td>\n",
       "      <td>Media</td>\n",
       "      <td>Entertainment</td>\n",
       "    </tr>\n",
       "    <tr>\n",
       "      <th>2</th>\n",
       "      <td>/organization/90min</td>\n",
       "      <td>90min</td>\n",
       "      <td>http://www.90min.com</td>\n",
       "      <td>Media|News|Publishing|Soccer|Sports</td>\n",
       "      <td>operating</td>\n",
       "      <td>GBR</td>\n",
       "      <td>H9</td>\n",
       "      <td>London</td>\n",
       "      <td>London</td>\n",
       "      <td>01-01-2011</td>\n",
       "      <td>/organization/90min</td>\n",
       "      <td>/funding-round/bd626ed022f5c66574b1afe234f3c90d</td>\n",
       "      <td>venture</td>\n",
       "      <td>NaN</td>\n",
       "      <td>07-05-2013</td>\n",
       "      <td>5800000.0</td>\n",
       "      <td>Media</td>\n",
       "      <td>Entertainment</td>\n",
       "    </tr>\n",
       "    <tr>\n",
       "      <th>3</th>\n",
       "      <td>/organization/90min</td>\n",
       "      <td>90min</td>\n",
       "      <td>http://www.90min.com</td>\n",
       "      <td>Media|News|Publishing|Soccer|Sports</td>\n",
       "      <td>operating</td>\n",
       "      <td>GBR</td>\n",
       "      <td>H9</td>\n",
       "      <td>London</td>\n",
       "      <td>London</td>\n",
       "      <td>01-01-2011</td>\n",
       "      <td>/organization/90min</td>\n",
       "      <td>/funding-round/fd4b15e8c97ee2ffc0acccdbe1a98810</td>\n",
       "      <td>venture</td>\n",
       "      <td>NaN</td>\n",
       "      <td>26-03-2014</td>\n",
       "      <td>18000000.0</td>\n",
       "      <td>Media</td>\n",
       "      <td>Entertainment</td>\n",
       "    </tr>\n",
       "    <tr>\n",
       "      <th>4</th>\n",
       "      <td>/organization/all-def-digital</td>\n",
       "      <td>All Def Digital</td>\n",
       "      <td>http://alldefdigital.com</td>\n",
       "      <td>Media</td>\n",
       "      <td>operating</td>\n",
       "      <td>USA</td>\n",
       "      <td>CA</td>\n",
       "      <td>Los Angeles</td>\n",
       "      <td>Los Angeles</td>\n",
       "      <td>NaN</td>\n",
       "      <td>/organization/all-def-digital</td>\n",
       "      <td>/funding-round/452a2342fe720285c3b92e9bd927d9ba</td>\n",
       "      <td>venture</td>\n",
       "      <td>A</td>\n",
       "      <td>06-08-2014</td>\n",
       "      <td>5000000.0</td>\n",
       "      <td>Media</td>\n",
       "      <td>Entertainment</td>\n",
       "    </tr>\n",
       "    <tr>\n",
       "      <th>5</th>\n",
       "      <td>/organization/audiosocket</td>\n",
       "      <td>Audiosocket</td>\n",
       "      <td>http://audiosocket.com</td>\n",
       "      <td>Media|Music|Technology</td>\n",
       "      <td>operating</td>\n",
       "      <td>USA</td>\n",
       "      <td>WA</td>\n",
       "      <td>Seattle</td>\n",
       "      <td>Seattle</td>\n",
       "      <td>01-05-2008</td>\n",
       "      <td>/organization/audiosocket</td>\n",
       "      <td>/funding-round/0959f59e3a89bc8db8c6ed9c646349fd</td>\n",
       "      <td>venture</td>\n",
       "      <td>NaN</td>\n",
       "      <td>02-05-2013</td>\n",
       "      <td>650000.0</td>\n",
       "      <td>Media</td>\n",
       "      <td>Entertainment</td>\n",
       "    </tr>\n",
       "    <tr>\n",
       "      <th>6</th>\n",
       "      <td>/organization/audiosocket</td>\n",
       "      <td>Audiosocket</td>\n",
       "      <td>http://audiosocket.com</td>\n",
       "      <td>Media|Music|Technology</td>\n",
       "      <td>operating</td>\n",
       "      <td>USA</td>\n",
       "      <td>WA</td>\n",
       "      <td>Seattle</td>\n",
       "      <td>Seattle</td>\n",
       "      <td>01-05-2008</td>\n",
       "      <td>/organization/audiosocket</td>\n",
       "      <td>/funding-round/4e3a53eec6c609943df752206070b23f</td>\n",
       "      <td>venture</td>\n",
       "      <td>A</td>\n",
       "      <td>02-09-2009</td>\n",
       "      <td>750000.0</td>\n",
       "      <td>Media</td>\n",
       "      <td>Entertainment</td>\n",
       "    </tr>\n",
       "    <tr>\n",
       "      <th>7</th>\n",
       "      <td>/organization/audiosocket</td>\n",
       "      <td>Audiosocket</td>\n",
       "      <td>http://audiosocket.com</td>\n",
       "      <td>Media|Music|Technology</td>\n",
       "      <td>operating</td>\n",
       "      <td>USA</td>\n",
       "      <td>WA</td>\n",
       "      <td>Seattle</td>\n",
       "      <td>Seattle</td>\n",
       "      <td>01-05-2008</td>\n",
       "      <td>/organization/audiosocket</td>\n",
       "      <td>/funding-round/bc0b412cf2fa7b739e4105ad756b47a4</td>\n",
       "      <td>venture</td>\n",
       "      <td>NaN</td>\n",
       "      <td>15-02-2012</td>\n",
       "      <td>1582300.0</td>\n",
       "      <td>Media</td>\n",
       "      <td>Entertainment</td>\n",
       "    </tr>\n",
       "    <tr>\n",
       "      <th>8</th>\n",
       "      <td>/organization/babble</td>\n",
       "      <td>Babble</td>\n",
       "      <td>http://www.babble.com</td>\n",
       "      <td>Media|News|Parenting</td>\n",
       "      <td>acquired</td>\n",
       "      <td>USA</td>\n",
       "      <td>NY</td>\n",
       "      <td>New York City</td>\n",
       "      <td>New York</td>\n",
       "      <td>01-12-2006</td>\n",
       "      <td>/organization/babble</td>\n",
       "      <td>/funding-round/43cc678b39be3e684bb88501af05ff9b</td>\n",
       "      <td>venture</td>\n",
       "      <td>A</td>\n",
       "      <td>05-02-2009</td>\n",
       "      <td>2000000.0</td>\n",
       "      <td>Media</td>\n",
       "      <td>Entertainment</td>\n",
       "    </tr>\n",
       "    <tr>\n",
       "      <th>9</th>\n",
       "      <td>/organization/babble</td>\n",
       "      <td>Babble</td>\n",
       "      <td>http://www.babble.com</td>\n",
       "      <td>Media|News|Parenting</td>\n",
       "      <td>acquired</td>\n",
       "      <td>USA</td>\n",
       "      <td>NY</td>\n",
       "      <td>New York City</td>\n",
       "      <td>New York</td>\n",
       "      <td>01-12-2006</td>\n",
       "      <td>/organization/babble</td>\n",
       "      <td>/funding-round/5fdb3dbeeb6eea0243702adc372130f3</td>\n",
       "      <td>venture</td>\n",
       "      <td>A</td>\n",
       "      <td>12-05-2009</td>\n",
       "      <td>1250000.0</td>\n",
       "      <td>Media</td>\n",
       "      <td>Entertainment</td>\n",
       "    </tr>\n",
       "  </tbody>\n",
       "</table>\n",
       "</div>"
      ],
      "text/plain": [
       "                       permalink             name              homepage_url  \\\n",
       "0            /organization/-fame            #fame        http://livfame.com   \n",
       "1            /organization/90min            90min      http://www.90min.com   \n",
       "2            /organization/90min            90min      http://www.90min.com   \n",
       "3            /organization/90min            90min      http://www.90min.com   \n",
       "4  /organization/all-def-digital  All Def Digital  http://alldefdigital.com   \n",
       "5      /organization/audiosocket      Audiosocket    http://audiosocket.com   \n",
       "6      /organization/audiosocket      Audiosocket    http://audiosocket.com   \n",
       "7      /organization/audiosocket      Audiosocket    http://audiosocket.com   \n",
       "8           /organization/babble           Babble     http://www.babble.com   \n",
       "9           /organization/babble           Babble     http://www.babble.com   \n",
       "\n",
       "                         category_list     status country_code state_code  \\\n",
       "0                                Media  operating          IND         16   \n",
       "1  Media|News|Publishing|Soccer|Sports  operating          GBR         H9   \n",
       "2  Media|News|Publishing|Soccer|Sports  operating          GBR         H9   \n",
       "3  Media|News|Publishing|Soccer|Sports  operating          GBR         H9   \n",
       "4                                Media  operating          USA         CA   \n",
       "5               Media|Music|Technology  operating          USA         WA   \n",
       "6               Media|Music|Technology  operating          USA         WA   \n",
       "7               Media|Music|Technology  operating          USA         WA   \n",
       "8                 Media|News|Parenting   acquired          USA         NY   \n",
       "9                 Media|News|Parenting   acquired          USA         NY   \n",
       "\n",
       "          region         city  founded_at              company_permalink  \\\n",
       "0         Mumbai       Mumbai         NaN            /organization/-fame   \n",
       "1         London       London  01-01-2011            /organization/90min   \n",
       "2         London       London  01-01-2011            /organization/90min   \n",
       "3         London       London  01-01-2011            /organization/90min   \n",
       "4    Los Angeles  Los Angeles         NaN  /organization/all-def-digital   \n",
       "5        Seattle      Seattle  01-05-2008      /organization/audiosocket   \n",
       "6        Seattle      Seattle  01-05-2008      /organization/audiosocket   \n",
       "7        Seattle      Seattle  01-05-2008      /organization/audiosocket   \n",
       "8  New York City     New York  01-12-2006           /organization/babble   \n",
       "9  New York City     New York  01-12-2006           /organization/babble   \n",
       "\n",
       "                           funding_round_permalink funding_round_type  \\\n",
       "0  /funding-round/9a01d05418af9f794eebff7ace91f638            venture   \n",
       "1  /funding-round/21a2cbf6f2fb2a1c2a61e04bf930dfe6            venture   \n",
       "2  /funding-round/bd626ed022f5c66574b1afe234f3c90d            venture   \n",
       "3  /funding-round/fd4b15e8c97ee2ffc0acccdbe1a98810            venture   \n",
       "4  /funding-round/452a2342fe720285c3b92e9bd927d9ba            venture   \n",
       "5  /funding-round/0959f59e3a89bc8db8c6ed9c646349fd            venture   \n",
       "6  /funding-round/4e3a53eec6c609943df752206070b23f            venture   \n",
       "7  /funding-round/bc0b412cf2fa7b739e4105ad756b47a4            venture   \n",
       "8  /funding-round/43cc678b39be3e684bb88501af05ff9b            venture   \n",
       "9  /funding-round/5fdb3dbeeb6eea0243702adc372130f3            venture   \n",
       "\n",
       "  funding_round_code   funded_at  raised_amount_usd primary sector  \\\n",
       "0                  B  05-01-2015         10000000.0          Media   \n",
       "1                NaN  06-10-2015         15000000.0          Media   \n",
       "2                NaN  07-05-2013          5800000.0          Media   \n",
       "3                NaN  26-03-2014         18000000.0          Media   \n",
       "4                  A  06-08-2014          5000000.0          Media   \n",
       "5                NaN  02-05-2013           650000.0          Media   \n",
       "6                  A  02-09-2009           750000.0          Media   \n",
       "7                NaN  15-02-2012          1582300.0          Media   \n",
       "8                  A  05-02-2009          2000000.0          Media   \n",
       "9                  A  12-05-2009          1250000.0          Media   \n",
       "\n",
       "     main_sector  \n",
       "0  Entertainment  \n",
       "1  Entertainment  \n",
       "2  Entertainment  \n",
       "3  Entertainment  \n",
       "4  Entertainment  \n",
       "5  Entertainment  \n",
       "6  Entertainment  \n",
       "7  Entertainment  \n",
       "8  Entertainment  \n",
       "9  Entertainment  "
      ]
     },
     "execution_count": 60,
     "metadata": {},
     "output_type": "execute_result"
    }
   ],
   "source": [
    "#merging the dataframes\n",
    "master_frame  = pd.merge(top3,mapping_long_df,how = \"inner\", on = \"primary sector\")\n",
    "master_frame .head(10)"
   ]
  },
  {
   "cell_type": "markdown",
   "metadata": {},
   "source": [
    "### creating country specific data frames"
   ]
  },
  {
   "cell_type": "markdown",
   "metadata": {},
   "source": [
    "the conditions are first each data frame belongs to one country from the top three list, the fund tyoe should be venture already taken care in the above dataframes, the investment amount should be between 5 to 15 million USD"
   ]
  },
  {
   "cell_type": "code",
   "execution_count": 61,
   "metadata": {},
   "outputs": [],
   "source": [
    "#creating dataframe for USA\n",
    "D1 = master_frame[(master_frame['country_code'] == 'USA') & (master_frame['raised_amount_usd'] >= 5000000) & (master_frame['raised_amount_usd'] <=15000000)]\n",
    "#creating DataFrame for GBR\n",
    "D2 = master_frame[(master_frame['country_code'] == 'GBR') & (master_frame['raised_amount_usd'] >= 5000000) & (master_frame['raised_amount_usd'] <=15000000)]\n",
    "#creating DataFrame for IND\n",
    "D3 = master_frame[(master_frame['country_code'] == 'IND') & (master_frame['raised_amount_usd'] >= 5000000) & (master_frame['raised_amount_usd'] <=15000000)]"
   ]
  },
  {
   "cell_type": "markdown",
   "metadata": {},
   "source": [
    "#### Sector-wise Investment Analysis"
   ]
  },
  {
   "cell_type": "code",
   "execution_count": 62,
   "metadata": {},
   "outputs": [
    {
     "name": "stdout",
     "output_type": "stream",
     "text": [
      "Total number of investments is  11751\n",
      "\n",
      "Total invested amount is 104956211901.0 \n",
      "\n",
      "Others                                     3063\n",
      "Cleantech / Semiconductors                 2387\n",
      "Social, Finance, Analytics, Advertising    2008\n",
      "News, Search and Messaging                 1664\n",
      "Health                                      959\n",
      "Manufacturing                               857\n",
      "Entertainment                               630\n",
      "Automotive & Sports                         183\n",
      "Name: main_sector, dtype: int64 \n",
      "\n",
      "main_sector\n",
      "Others                                     2.722281e+10\n",
      "Cleantech / Semiconductors                 2.198866e+10\n",
      "Social, Finance, Analytics, Advertising    1.754635e+10\n",
      "News, Search and Messaging                 1.471255e+10\n",
      "Health                                     8.644301e+09\n",
      "Manufacturing                              7.801044e+09\n",
      "Entertainment                              5.449170e+09\n",
      "Automotive & Sports                        1.591336e+09\n",
      "Name: raised_amount_usd, dtype: float64\n"
     ]
    }
   ],
   "source": [
    "#to calculate the total number of investments in D1\n",
    "print(\"Total number of investments is \", round(D1['raised_amount_usd'].value_counts().sum()))\n",
    "#To calculate the total amount of investment in D1\n",
    "print(\"\\nTotal invested amount is\", round(D1['raised_amount_usd'].sum()),\"\\n\")\n",
    "#TO CALCULATE THE TOTAL NUMBER OF INVESTMENTS IN EACH SECTOR FOR D1\n",
    "print(round(D1['main_sector'].value_counts().sort_values(ascending = False),2),\"\\n\")\n",
    "#calculating the total number of investment amount for each sector in D1\n",
    "D1_group = D1.groupby('main_sector')\n",
    "print(round(D1_group['raised_amount_usd'].sum().sort_values(ascending = False),2))\n",
    "#storing the top three sectors in a list\n",
    "D1_top_three_sector_list = D1['main_sector'].value_counts().sort_values(ascending = False)[0:3].index"
   ]
  },
  {
   "cell_type": "code",
   "execution_count": 63,
   "metadata": {},
   "outputs": [
    {
     "name": "stdout",
     "output_type": "stream",
     "text": [
      "Total number of investments is  577\n",
      "\n",
      "Total invested amount is  5028704358.0 \n",
      "\n",
      "Others                                     143\n",
      "Cleantech / Semiconductors                 127\n",
      "Social, Finance, Analytics, Advertising     98\n",
      "News, Search and Messaging                  73\n",
      "Entertainment                               54\n",
      "Manufacturing                               42\n",
      "Health                                      24\n",
      "Automotive & Sports                         16\n",
      "Name: main_sector, dtype: int64 \n",
      "\n",
      "main_sector\n",
      "Others                                     1.249124e+09\n",
      "Cleantech / Semiconductors                 1.136905e+09\n",
      "Social, Finance, Analytics, Advertising    8.218884e+08\n",
      "News, Search and Messaging                 6.157462e+08\n",
      "Entertainment                              4.615111e+08\n",
      "Manufacturing                              3.619403e+08\n",
      "Health                                     2.145375e+08\n",
      "Automotive & Sports                        1.670516e+08\n",
      "Name: raised_amount_usd, dtype: float64\n"
     ]
    }
   ],
   "source": [
    "#to calculate the total number of investments in D2\n",
    "print(\"Total number of investments is \", round(D2['raised_amount_usd'].value_counts().sum()))\n",
    "#To calculate the total amount of investment in D2\n",
    "print(\"\\nTotal invested amount is \", round(D2['raised_amount_usd'].sum()),\"\\n\")\n",
    "#TO CALCULATE THE TOTAL NUMBER OF INVESTMENTS IN EACH SECTOR FOR D2\n",
    "print(round(D2['main_sector'].value_counts().sort_values(ascending = False),2),\"\\n\")\n",
    "#calculating the total number of investment amount for each sector in D2\n",
    "D2_group = D2.groupby('main_sector')\n",
    "print(round(D2_group['raised_amount_usd'].sum().sort_values(ascending = False),2))\n",
    "#storing the top three sectors in a list\n",
    "D2_top_three_sector_list = D2['main_sector'].value_counts().sort_values(ascending = False)[0:3].index"
   ]
  },
  {
   "cell_type": "code",
   "execution_count": 64,
   "metadata": {},
   "outputs": [
    {
     "name": "stdout",
     "output_type": "stream",
     "text": [
      "Total number of investments is  299\n",
      "\n",
      "Total invested amount is  2683537552.0 \n",
      "\n",
      "Others                                     109\n",
      "News, Search and Messaging                  52\n",
      "Entertainment                               33\n",
      "Social, Finance, Analytics, Advertising     32\n",
      "Manufacturing                               21\n",
      "Cleantech / Semiconductors                  20\n",
      "Health                                      19\n",
      "Automotive & Sports                         13\n",
      "Name: main_sector, dtype: int64 \n",
      "\n",
      "main_sector\n",
      "Others                                     1.007410e+09\n",
      "News, Search and Messaging                 4.338345e+08\n",
      "Social, Finance, Analytics, Advertising    2.905435e+08\n",
      "Entertainment                              2.808300e+08\n",
      "Manufacturing                              2.009000e+08\n",
      "Health                                     1.677400e+08\n",
      "Cleantech / Semiconductors                 1.653800e+08\n",
      "Automotive & Sports                        1.369000e+08\n",
      "Name: raised_amount_usd, dtype: float64\n"
     ]
    }
   ],
   "source": [
    "#to calculate the total number of investments in D3\n",
    "print(\"Total number of investments is \", round(D3['raised_amount_usd'].value_counts().sum()))\n",
    "#To calculate the total amount of investment in D3\n",
    "print(\"\\nTotal invested amount is \", round(D3['raised_amount_usd'].sum()),\"\\n\")\n",
    "#TO CALCULATE THE TOTAL NUMBER OF INVESTMENTS IN EACH SECTOR FOR D3\n",
    "print(round(D3['main_sector'].value_counts().sort_values(ascending = False),2),\"\\n\")\n",
    "#calculating the total number of investment amount for each sector in D3\n",
    "D3_group = D3.groupby('main_sector')\n",
    "print(round(D3_group['raised_amount_usd'].sum().sort_values(ascending = False),2))"
   ]
  },
  {
   "cell_type": "code",
   "execution_count": 65,
   "metadata": {},
   "outputs": [
    {
     "name": "stdout",
     "output_type": "stream",
     "text": [
      "the countries that received top funding for the first sector is\n",
      "\n",
      " ['Change Healthcare', 'Education.com', 'Schoology', 'Akorri Networks', 'AltoWeb', 'Avamar Technologies', 'Branch Metrics', 'Broadcast International', 'BTI Systems', 'Cape Clear Software', 'Cassatt', 'Certeon', 'Clinicient', 'Convio', 'CrossChx', 'WorkFusion', 'DataSynapse', 'Dataupia', 'Decisyon', 'Deploy Solution', 'Efreightsolutions Holdings', 'Enablon', 'FiftyThree', 'Formation Data Systems', 'FusionStorm', 'Ikanos', 'Imagine Communications', 'Infineta Systems', 'Infineta Systems', 'iPipeline', 'Kasenna', 'Lecorpio', 'Mendocino Software', 'NantMobile', 'NantMobile', 'NeoSystems', 'Quofore', 'Operax', 'Panzura', 'Qwilt', 'Rainfinity', 'ScienceLogic', 'ScienceLogic', 'Softricity', 'SRC Computers', 'StreamBase Systems', 'Tendril', 'ToutApp', 'TSheets', 'vArmour', 'Vettro', 'Vicarious', 'VIEO', 'Virtual Computer', 'Vontu', 'WhenU.com', 'Wily Technology', 'XenSource', 'Appcelerator', 'Approva', 'Aryaka Networks', 'Astute Networks', 'BetterWorks', 'BlueNote Networks', 'Cedar Point Communications', 'Celergo', 'Cloud Engines', 'Code Green Networks', 'Code Green Networks', 'deCarta', 'Digital Signal', 'Equallogic', 'ForgeRock', 'GuideSpark', 'Incipient', 'InMage Systems', 'IntelePeer', 'Kaminario', 'Kaminario', 'Loggly', 'LogRhythm', 'moka5', 'moka5', 'Monetate', 'MuleSoft', 'Netcontinuum', 'newScale', 'OneSource Virtual', 'OnForce', 'Pliant Technology', 'Rage Frameworks', 'Recommind', 'Sauce Labs', 'Shoutlet', 'sliceX', 'Smartvue', 'SMS Assist', 'SpiderCloud Wireless', 'Stem', 'Talari Networks', 'Taulia', 'Total Attorneys', 'TriCipher', 'TRUSTe', 'Virtustream', 'Virtustream', 'Vormetric', 'Vormetric', 'Voxify', 'Zenefits', 'Zerto', '1stdibs', 'Bag Borrow or Steal', 'Betabrand', 'Bigcommerce', 'Bluefly', 'CashStar', 'Chloe + Isabel', 'Colorescience', 'e-Rewards', 'Endeca', 'Endeca', 'Gemvara', 'JustFab', 'LE TOTE', 'Naartjie', 'Pets.com', 'Rent the Runway', 'Rent the Runway', 'Ritani', 'Sambazon', 'Stockpile', 'Xoom Corporation', 'Curious.com', 'Empowered Careers', 'Newsela', 'Craftsy', 'Udacity', 'Avere Systems', 'BlueArc', 'Capella Photonics', 'CloudShield Technologies', 'Colubris Networks', 'DATAllegro', 'Hatteras Networks', 'Isilon Systems', 'Overture Networks', 'ReefEdge', 'SeaMicro', 'Silverback Systems', 'Silverback Systems', 'SkyPilot Networks', 'SmartLink Radio Networks', 'WiChorus', 'Authentix', 'Bakbone Software', 'BreakingPoint Systems', 'Cenzic', 'Convergence', 'CoVi Technologies', 'CoVi Technologies', 'Dtex Systems', 'Imprivata', 'nCircle Network Security', 'Nok Nok Labs', 'Tempered Networks', 'Atesto Technologies', 'Nexgenix', 'ViAir', 'BigBand Networks', 'Switch Communications, Inc.', 'Keyssa', 'Agari', 'Arena Solutions', 'Authentium', 'Carbonite', 'Coradiant', 'Datadog', 'Couchsurfing', 'Kitchensurfing', 'Meraki', 'Apreso Classroom', 'Edmodo', 'Facebook', 'Remind', 'Trulia', 'Jobvite', 'Jazz', 'Pepperdata', 'Foursquare', 'Loopt', 'DoubleDutch', 'Identec Solutions', 'Predictix', 'Topix', 'Switchfly', 'Switchfly']\n",
      "\n",
      "the countries that received top funding for the second sector is\n",
      "\n",
      "['Accuri Cytometers', 'Adamis Pharmaceuticals', 'Advanced Cardiac Therapeutics', 'Aerpio Therapeutics', 'Afferent Pharmaceuticals', 'Afferent Pharmaceuticals', 'AirXpanders', 'AkaRx', 'AkaRx', 'Akermin', 'Alere Analytics', 'Alimera Sciences', 'Allocade', 'American Renal Associates Holdings', 'American Well', 'AmpliMed Corporation', 'Aoxing Pharmaceutical', 'Apollo Endosurgery', 'Asuragen', 'AUM Cardiovascular', 'AutoGenomics', 'Bacterioscan', 'Benchling', 'BG Medicine', 'BG Medicine', 'BioClinica', 'Biofisica', 'Biolase', 'BioLeap', 'BioPro Pharmaceutical', 'BioSET', 'Blaze Bioscience', 'Calysta Energy', 'Cell>Point', 'ChartWise Medical Systems', 'Cheetah Medical', 'Cleveland BioLabs', 'Constellation Pharmaceuticals', 'Core Essence Orthopaedics', 'CorNova', 'Diffusion Pharmaceuticals', 'Dimension Therapeutics', 'Epirus Biopharmaceuticals', 'EternoGen', 'ETrials Worldwide', 'ForSight Labs', 'G-CON', 'GeneCentric Diagnostics', 'Genomind', 'Glycos Biotechnologies', 'GnuBIO', 'GT Urological', 'Hadron Systems', 'ICAgen', 'Idenix Pharmaceuticals', 'Impedance Cardiology Systems', 'IMT (Innovative Micro Technology)', 'InCarda Therapeutics', 'Inception Sciences', 'Inception Sciences', 'InformedDNA', 'Insightra Medical', 'Intarcia Therapeutics', 'Juventas Therapeutics', 'Kinex Pharmaceuticals', 'Knome', 'Knome', 'Kolltan Pharmaceuticals', 'Kurobe Pharmaceuticals', 'Laboratory Partners', 'LaserGen', 'LS9', 'Medifacts International', 'Microvi Biotechnologies', 'Mobius Therapeutics', 'MYOMO', 'Nanosphere', 'NanoViricides', 'NanoViricides', 'NexBio', 'Nexus Biosystems', 'Knopp Biosciences LLC', 'Nuclea Biotechnologies', 'Nuon Therapeutics', 'On-Q-ity', 'Piedmont Pharmaceuticals', 'PipelineRx', 'Provista Diagnostics', 'PSYLIN NEUROSCIENCES', 'REACH Health', 'RFS Pharma', 'SciFluor Life Sciences', 'Seahorse Bioscience', 'Selventa', 'Sente Inc.', 'Sera Prognostics', 'SkinMedica', 'Slate Pharmaceuticals', 'Sofie Biosciences', 'Specialized Health Products International', 'Spinal Restoration', 'SQZ Biotech', 'Synlogic', 'Terapio', 'TetraLogic Pharmaceuticals', 'Tragara', 'Traversa Therapeutics', 'Traycer Diagnostic Systems', 'Triton Algae Innovations', 'Triton Algae Innovations', 'Union Spring Pharmaceuticals', 'Vanson HaloSource', 'VisEn Medical', 'One Block Off the Grid (1BOG)', 'Ascent Solar Technologies', 'Ascent Solar Technologies', 'Aurora Biofuels', 'Carbonetworks', 'ClearEdge Power', 'Complete Solar', 'Contour Energy Systems', 'Draths Corporation', 'EcoSMART Technologies', 'ECOtality', 'Enerpulse', 'Environmental Operating Solutions', 'EOS Climate, Inc.', 'GreenLancer', 'Greenlots', 'Infinite Power Solutions', 'Innovalight', 'Inventure Chemicals', 'JDCPhosphate', 'Kaai', 'LiquidPiston', 'Losonoco', 'Makani Power', 'MIOX', 'Nanosolar', 'New Leaf Paper', 'Optimum Energy', 'ORBITAL SYSTEMS', 'Powerit Solutions', 'QBotix', 'ReGen Power Systems', 'ReliOn', 'Sopogy', 'Soraa', 'Suniva', 'SynapSense', 'Tigo Energy', 'UGE', 'Viryd Technologies', 'Vision Fleet', 'Wheego Electric Cars', 'WISErg', 'Wrightspeed', 'Wrightspeed', 'Xtreme Power', 'NWP Services Corporation', 'OmniPV', 'Adura Technologies', 'GreatPoint Energy', 'Inspire Energy', 'LP Amina', 'Pasteurization Technology Group (PTG)', 'Azuray Technologies', 'CHiL Semiconductor', 'ClariPhy Communications', 'eASIC', 'GCT Semiconductor', 'Gigoptix', 'Kaiam', 'Luminary Micro', 'Quellan', 'R2 Semiconductor', 'Sierra Design Automation', 'siXis', 'Stretch', 'Tensorcom', 'Tensorcom', 'Adaptive Biotechnologies', 'Biotica Technology', 'NEXTracker', 'Kraken Bitcoin Exchange', 'Filament', 'Allotrope Partners', 'Digital Lumens', 'Lumenz']\n"
     ]
    }
   ],
   "source": [
    "#storing the top three sectors in a list\n",
    "D1_top_three_sector_list = D1['main_sector'].value_counts().sort_values(ascending = False)[0:3].index\n",
    "#selecting the companies with highest investment in the top sector \n",
    "company_name = D1.loc[(D1.main_sector == D1_top_three_sector_list[0]) & (D1['raised_amount_usd'] == D1['raised_amount_usd'].max())]\n",
    "first_sector_top_company_name = list(company_name.name)\n",
    "print(\"the countries that received top funding for the first sector is\")\n",
    "print(\"\\n\",first_sector_top_company_name)\n",
    "#finding the top investment amount in the second sector\n",
    "highest_funding_amount_for_second_sector = D1['raised_amount_usd'].value_counts().sort_values(ascending = False).index\n",
    "#finding the company names with highest investment in the second top sector\n",
    "company_name = D1.loc[(D1.main_sector == D1_top_three_sector_list[1]) & (D1['raised_amount_usd'] == highest_funding_amount_for_second_sector[0])]\n",
    "second_sector_top_company_name = list(company_name.name)\n",
    "print(\"\\nthe countries that received top funding for the second sector is\\n\")\n",
    "print(second_sector_top_company_name)"
   ]
  },
  {
   "cell_type": "code",
   "execution_count": 66,
   "metadata": {
    "scrolled": true
   },
   "outputs": [
    {
     "name": "stdout",
     "output_type": "stream",
     "text": [
      "the countries that received top funding for the first sector is\n",
      "\n",
      " ['Azure Solutions', 'EnvironmentIQ', 'ip.access', 'Tribold', 'Notonthehighstreet', 'SenSage', 'SilverRail Technologies']\n",
      "\n",
      "the countries that received top funding for the second sector is\n",
      "\n",
      "['Acacia Pharma', 'MISSION Therapeutics', 'Oxitec', 'Xenetic Biosciences', 'Iceotope', 'Aspex Semiconductor', 'Elixent', 'Global Silicon', 'Bitstamp']\n"
     ]
    }
   ],
   "source": [
    "#storing the top three sectors in a list\n",
    "D2_top_three_sector_list = D2['main_sector'].value_counts().sort_values(ascending = False)[0:3].index\n",
    "#selecting the companies with highest investment in the top sector \n",
    "company_name = D2.loc[(D2.main_sector == D2_top_three_sector_list[0]) & (D2['raised_amount_usd'] == D2['raised_amount_usd'].max())]\n",
    "first_sector_top_company_name = list(company_name.name)\n",
    "print(\"the countries that received top funding for the first sector is\")\n",
    "print(\"\\n\",first_sector_top_company_name)\n",
    "#finding the top investment amount in the second sector\n",
    "highest_funding_amount_for_second_sector = D2['raised_amount_usd'].value_counts().sort_values(ascending = False).index\n",
    "#finding the company names with highest investment in the second top sector\n",
    "company_name = D2.loc[(D2.main_sector == D2_top_three_sector_list[1]) & (D2['raised_amount_usd'] == highest_funding_amount_for_second_sector[0])]\n",
    "second_sector_top_company_name = list(company_name.name)\n",
    "print(\"\\nthe countries that received top funding for the second sector is\\n\")\n",
    "print(second_sector_top_company_name)"
   ]
  },
  {
   "cell_type": "code",
   "execution_count": 67,
   "metadata": {},
   "outputs": [
    {
     "name": "stdout",
     "output_type": "stream",
     "text": [
      "the countries that received top funding for the first sector is\n",
      "\n",
      " ['GirnarSoft', 'CaratLane', 'FirstCry.com', 'LimeRoad', 'Pepperfry.com', 'Roposo', 'Voylla Retail Pvt. Ltd.', 'Classteacher Learning Systems', 'K-12 Techno Services', 'Tejas Networks India', 'iPolicy Networks', 'CommonFloor', 'ZO Rooms', 'ItzCash Card Ltd.', 'Comat Technologies']\n",
      "\n",
      "the countries that received top funding for the second sector is\n",
      "\n",
      "['PepperTap', 'UrbanClap', 'Babajob', 'Bluestone.com', 'Four Interactive', 'Money On Mobile', 'Webshastra', 'GupShup', 'IMImobile', 'One97 Communications', 'SMS GupShup', 'Roadrunnr', 'Just Dial']\n"
     ]
    }
   ],
   "source": [
    "#storing the top three sectors in a list\n",
    "D3_top_three_sector_list = D3['main_sector'].value_counts().sort_values(ascending = False)[0:3].index\n",
    "#selecting the companies with highest investment in the top sector \n",
    "company_name = D3.loc[(D3.main_sector == D3_top_three_sector_list[0]) & (D3['raised_amount_usd'] == D3['raised_amount_usd'].max())]\n",
    "first_sector_top_company_name = list(company_name.name)\n",
    "print(\"the countries that received top funding for the first sector is\")\n",
    "print(\"\\n\",first_sector_top_company_name)\n",
    "#finding the top investment amount in the second sector\n",
    "highest_funding_amount_for_second_sector = D3['raised_amount_usd'].value_counts().sort_values(ascending = False).index\n",
    "#finding the company names with highest investment in the second top sector\n",
    "company_name = D3.loc[(D3.main_sector == D3_top_three_sector_list[1]) & (D3['raised_amount_usd'] == highest_funding_amount_for_second_sector[0])]\n",
    "second_sector_top_company_name = list(company_name.name)\n",
    "print(\"\\nthe countries that received top funding for the second sector is\\n\")\n",
    "print(second_sector_top_company_name)"
   ]
  },
  {
   "cell_type": "markdown",
   "metadata": {},
   "source": [
    "### Plots"
   ]
  },
  {
   "cell_type": "code",
   "execution_count": 68,
   "metadata": {},
   "outputs": [],
   "source": [
    "import matplotlib.pyplot as plt \n",
    "import seaborn as sns"
   ]
  },
  {
   "cell_type": "code",
   "execution_count": 69,
   "metadata": {},
   "outputs": [
    {
     "data": {
      "text/plain": [
       "<matplotlib.axes._subplots.AxesSubplot at 0x279e8710d08>"
      ]
     },
     "execution_count": 69,
     "metadata": {},
     "output_type": "execute_result"
    },
    {
     "data": {
      "image/png": "[encoded data removed]",
      "text/plain": [
       "<Figure size 2160x360 with 1 Axes>"
      ]
     },
     "metadata": {
      "needs_background": "light"
     },
     "output_type": "display_data"
    }
   ],
   "source": [
    "#plot showing the representative amount of investment in each funding type\n",
    "plt.figure(figsize=(30, 5))\n",
    "#removing the outliers by considering the 90% values for making the graph visible\n",
    "upper_limit = master_frame_all_funding_round_type['raised_amount_usd'].quantile(q=0.9)\n",
    "master_frame_all_funding_round_type = master_frame_all_funding_round_type[master_frame_all_funding_round_type['raised_amount_usd'] <=upper_limit]\n",
    "#plotting the graph\n",
    "sns.boxplot(x = 'funding_round_type', y = 'raised_amount_usd', data = master_frame_all_funding_round_type)"
   ]
  },
  {
   "cell_type": "code",
   "execution_count": 70,
   "metadata": {},
   "outputs": [
    {
     "data": {
      "text/plain": [
       "<matplotlib.axes._subplots.AxesSubplot at 0x279ee9a6d08>"
      ]
     },
     "execution_count": 70,
     "metadata": {},
     "output_type": "execute_result"
    },
    {
     "data": {
      "image/png": "[encoded data removed]",
      "text/plain": [
       "<Figure size 1440x360 with 1 Axes>"
      ]
     },
     "metadata": {
      "needs_background": "light"
     },
     "output_type": "display_data"
    }
   ],
   "source": [
    "#plot that shows the country wise investment amount across all the sectors for the Fund Type Venture\n",
    "plt.figure(figsize=(20, 5))\n",
    "#removing the outliers by considering the 90% values for making the graph visible\n",
    "upper_limit = top9.raised_amount_usd.quantile(q=0.9)\n",
    "top9 = top9[top9['raised_amount_usd'] <= upper_limit]\n",
    "#plotting the graph\n",
    "sns.boxplot(x = 'country_code', y = 'raised_amount_usd', data = top9)"
   ]
  },
  {
   "cell_type": "markdown",
   "metadata": {},
   "source": [
    "from the figure it is clear that USA has the highest amount if investment, then comes CHN, then is the GBR and following is IND"
   ]
  },
  {
   "cell_type": "code",
   "execution_count": 71,
   "metadata": {},
   "outputs": [
    {
     "data": {
      "text/plain": [
       "Text(0.5, 1.0, 'count of investment sector wise for Country IND')"
      ]
     },
     "execution_count": 71,
     "metadata": {},
     "output_type": "execute_result"
    },
    {
     "data": {
      "image/png": "[encoded data removed]",
      "text/plain": [
       "<Figure size 2160x1440 with 3 Axes>"
      ]
     },
     "metadata": {
      "needs_background": "light"
     },
     "output_type": "display_data"
    }
   ],
   "source": [
    "# number of investments in top sectors\n",
    "#creating sub plots for each country\n",
    "plt.figure(figsize=(30, 20))\n",
    "plt.subplot(3,1,1)\n",
    "plt.hist(D1.main_sector, bins = 15)\n",
    "plt.title(\"count of investment sector wise for Country USA\")\n",
    "plt.subplot(3,1,2)\n",
    "plt.hist(D2.main_sector, bins = 15)\n",
    "plt.title(\"count of investment sector wise for Country GBR\")\n",
    "plt.subplot(3,1,3)\n",
    "plt.hist(D3.main_sector, bins = 15)\n",
    "plt.title(\"count of investment sector wise for Country IND\")"
   ]
  },
  {
   "cell_type": "code",
   "execution_count": null,
   "metadata": {},
   "outputs": [],
   "source": []
  }
 ],
 "metadata": {
  "kernelspec": {
   "display_name": "Python 3",
   "language": "python",
   "name": "python3"
  },
  "language_info": {
   "codemirror_mode": {
    "name": "ipython",
    "version": 3
   },
   "file_extension": ".py",
   "mimetype": "text/x-python",
   "name": "python",
   "nbconvert_exporter": "python",
   "pygments_lexer": "ipython3",
   "version": "3.7.6"
  }
 },
 "nbformat": 4,
 "nbformat_minor": 4
}
